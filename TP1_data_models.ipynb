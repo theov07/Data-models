{
 "cells": [
  {
   "cell_type": "code",
   "execution_count": 46,
   "metadata": {},
   "outputs": [
    {
     "name": "stdout",
     "output_type": "stream",
     "text": [
      "The memory_profiler extension is already loaded. To reload it, use:\n",
      "  %reload_ext memory_profiler\n",
      "875 ms ± 2.05 ms per loop (mean ± std. dev. of 3 runs, 10 loops each)\n",
      "peak memory: 1420.34 MiB, increment: 62.53 MiB\n",
      "171 ms ± 1.46 ms per loop (mean ± std. dev. of 3 runs, 10 loops each)\n",
      "peak memory: 1434.59 MiB, increment: 62.25 MiB\n"
     ]
    }
   ],
   "source": [
    "import csv\n",
    "from memory_profiler import memory_usage\n",
    "\n",
    "\n",
    "\n",
    "def loading_from_csv_DictReader(filename):\n",
    "    with open(filename, encoding=\"utf8\") as csvfile:\n",
    "        reader = csv.DictReader(csvfile)\n",
    "        data = list(reader)\n",
    "    return data\n",
    "\n",
    "\n",
    "\n",
    "def extract_top5_DictReader(data):\n",
    "    \n",
    "    for artist in data:\n",
    "        artist['popularity'] = float(artist['popularity'])\n",
    "    top5_artists = sorted(data, key=lambda x: x['popularity'], reverse=True)[:5]\n",
    "    \n",
    "    return [{'name': artist['name'], 'popularity': artist['popularity']} for artist in top5_artists]\n",
    "\n",
    "\n",
    "\n",
    "%load_ext memory_profiler\n",
    "\n",
    "\n",
    "filename = '/Users/theoverdelhan/Documents/EDUCATION/FG4A DATA/Data models/artists_rev1.csv'\n",
    "\n",
    "\n",
    "time_measures={}\n",
    "memory_measures={}\n",
    "\n",
    "# Mesurer le temps et la mémoire pour charger les données\n",
    "time_measures[\"csv_dictreader_load\"] = %timeit -o -r 3 -n 10 loading_from_csv_DictReader(filename)\n",
    "memory_measures[\"csv_dictreader_load\"] = %memit -c -o -r 3 loading_from_csv_DictReader(filename)\n",
    "\n",
    "\n",
    "# Charger les données pour l'extraction\n",
    "data = loading_from_csv_DictReader(filename)\n",
    "\n",
    "# Mesurer le temps et la mémoire pour l'extraction des 5 meilleurs artistes\n",
    "time_measures[\"csv_dictreader_extract\"] = %timeit -o -r 3 -n 10 extract_top5_DictReader(data)\n",
    "memory_measures[\"csv_dictreader_extract\"] = %memit -c -o -r 3 extract_top5_DictReader(data)\n",
    "\n",
    "\n"
   ]
  },
  {
   "cell_type": "code",
   "execution_count": 47,
   "metadata": {},
   "outputs": [
    {
     "name": "stdout",
     "output_type": "stream",
     "text": [
      "Nb of rows:  1162095\n",
      "Example of rows extracted:  [{'id': '0DheY5irMjBUeLybbCUEZ2', 'followers': '0.0', 'genres': '[\"\"]', 'name': 'Armid & Amir Zare Pashai feat. Sara Rouzbehani', 'popularity': '0'}, {'id': '0DlhY15l3wsrnlfGio2bjU', 'followers': '5.0', 'genres': '[\"\"]', 'name': 'ปูนา ภาวิณี', 'popularity': '0'}, {'id': '0DmRESX2JknGPQyO15yxg7', 'followers': '0.0', 'genres': '[\"\"]', 'name': 'Sadaa', 'popularity': '0'}]\n"
     ]
    }
   ],
   "source": [
    "data = loading_from_csv_DictReader(filename)\n",
    "print(\"Nb of rows: \",len(data))\n",
    "print(\"Example of rows extracted: \", data[:3])"
   ]
  },
  {
   "cell_type": "code",
   "execution_count": 48,
   "metadata": {},
   "outputs": [
    {
     "name": "stdout",
     "output_type": "stream",
     "text": [
      "[{'name': 'Justin Bieber', 'popularity': 100.0}, {'name': 'Bad Bunny', 'popularity': 98.0}, {'name': 'Taylor Swift', 'popularity': 98.0}, {'name': 'Drake', 'popularity': 98.0}, {'name': 'Juice WRLD', 'popularity': 96.0}]\n"
     ]
    }
   ],
   "source": [
    "print(extract_top5_DictReader(data))"
   ]
  },
  {
   "cell_type": "markdown",
   "metadata": {},
   "source": [
    "exercice 2"
   ]
  },
  {
   "cell_type": "code",
   "execution_count": 49,
   "metadata": {},
   "outputs": [
    {
     "name": "stdout",
     "output_type": "stream",
     "text": [
      "502 ms ± 6.23 ms per loop (mean ± std. dev. of 3 runs, 10 loops each)\n",
      "peak memory: 1907.86 MiB, increment: 71.05 MiB\n",
      "171 ms ± 1.19 ms per loop (mean ± std. dev. of 3 runs, 10 loops each)\n",
      "peak memory: 1843.50 MiB, increment: 62.66 MiB\n"
     ]
    }
   ],
   "source": [
    "import csv\n",
    "\n",
    "def loading_from_csv_reader(filename):\n",
    "    with open(filename, encoding=\"utf8\") as csvfile:\n",
    "        reader = csv.reader(csvfile)\n",
    "        header = next(reader)  # Récupère les en-têtes\n",
    "        data = list(reader)    # Lit le reste des données\n",
    "    return header, data\n",
    "\n",
    "\n",
    "\n",
    "def extract_top5_reader(header, data):\n",
    "    # Trouver l'index des colonnes 'name' et 'popularity'\n",
    "    name_idx = header.index('name')\n",
    "    popularity_idx = header.index('popularity')\n",
    "\n",
    "    # Trier les données en fonction de la popularité\n",
    "    top5_artists = sorted(data, key=lambda x: float(x[popularity_idx]), reverse=True)[:5]\n",
    "\n",
    "    # Retourner les noms et popularités des 5 meilleurs artistes\n",
    "    return [{'name': artist[name_idx], 'popularity': float(artist[popularity_idx])} for artist in top5_artists]\n",
    "\n",
    "\n",
    "\n",
    "\n",
    "\n",
    "time_measures[\"csv_reader_load\"] = %timeit -o -r 3 -n 10 loading_from_csv_reader(filename)\n",
    "memory_measures[\"csv_reader_load\"] = %memit -c -o -r 3 loading_from_csv_reader(filename)\n",
    "\n",
    "header,data = loading_from_csv_reader(filename)\n",
    "\n",
    "time_measures[\"csv_reader_extract\"] = %timeit -o -r 3 -n 10 extract_top5_reader(header, data)\n",
    "memory_measures[\"csv_reader_extract\"] = %memit -c -o -r 3 extract_top5_reader(header, data)\n",
    "\n"
   ]
  },
  {
   "cell_type": "markdown",
   "metadata": {},
   "source": [
    "exercice 3"
   ]
  },
  {
   "cell_type": "code",
   "execution_count": 50,
   "metadata": {},
   "outputs": [
    {
     "name": "stdout",
     "output_type": "stream",
     "text": [
      "The memory_profiler extension is already loaded. To reload it, use:\n",
      "  %reload_ext memory_profiler\n",
      "734 ms ± 23.8 ms per loop (mean ± std. dev. of 3 runs, 10 loops each)\n",
      "peak memory: 1860.72 MiB, increment: 63.75 MiB\n",
      "84.4 ms ± 325 µs per loop (mean ± std. dev. of 3 runs, 10 loops each)\n",
      "peak memory: 1630.20 MiB, increment: 62.11 MiB\n"
     ]
    }
   ],
   "source": [
    "import pandas as pd\n",
    "\n",
    "def loading_from_pandas_csv(filename):\n",
    "    return pd.read_csv(filename, encoding=\"utf8\")\n",
    "\n",
    "\n",
    "def extract_top5_pandas(data):\n",
    "    # Trier les données par popularité et sélectionner les 5 premières lignes\n",
    "    sorted_data = data.sort_values(by=\"popularity\", ascending=False).head(5)\n",
    "    return sorted_data[[\"name\", \"popularity\"]]\n",
    "\n",
    "\n",
    "\n",
    "%load_ext memory_profiler\n",
    "\n",
    "\n",
    "\n",
    "time_measures[\"pandas_csv_load\"] = %timeit -o -r 3 -n 10 loading_from_pandas_csv (filename)\n",
    "memory_measures[\"pandas_csv_load\"] = %memit -c -o -r 3 loading_from_pandas_csv (filename)\n",
    "\n",
    "data = loading_from_pandas_csv(filename)\n",
    "\n",
    "time_measures[\"pandas_csv_extract\"] = %timeit -o -r 3 -n 10 extract_top5_pandas(data)\n",
    "memory_measures[\"pandas_csv_extract\"] = %memit -c -o -r 3 extract_top5_pandas(data)\n"
   ]
  },
  {
   "cell_type": "markdown",
   "metadata": {},
   "source": [
    "exercice 4"
   ]
  },
  {
   "cell_type": "code",
   "execution_count": 51,
   "metadata": {},
   "outputs": [
    {
     "name": "stdout",
     "output_type": "stream",
     "text": [
      "The memory_profiler extension is already loaded. To reload it, use:\n",
      "  %reload_ext memory_profiler\n",
      "423 ms ± 4.11 ms per loop (mean ± std. dev. of 3 runs, 10 loops each)\n",
      "peak memory: 1635.39 MiB, increment: 62.28 MiB\n",
      "57.4 ms ± 216 µs per loop (mean ± std. dev. of 3 runs, 10 loops each)\n",
      "peak memory: 1470.36 MiB, increment: 62.22 MiB\n"
     ]
    }
   ],
   "source": [
    "import pandas as pd\n",
    "\n",
    "def loading_from_pandas_csv_optimized(filename):\n",
    "    return pd.read_csv(filename, encoding=\"utf8\", usecols=['name', 'popularity'])\n",
    "\n",
    "\n",
    "%load_ext memory_profiler\n",
    "\n",
    "\n",
    "\n",
    "time_measures[\"pandas_csv_optim_load\"] = %timeit -o -r 3 -n 10 loading_from_pandas_csv_optimized(filename)\n",
    "memory_measures[\"pandas_csv_optim_load\"] = %memit -c -o -r 3 loading_from_pandas_csv_optimized(filename)\n",
    "\n",
    "data = loading_from_pandas_csv_optimized(filename)\n",
    "\n",
    "time_measures[\"pandas_csv_optim_extract\"] = %timeit -o -r 3 -n 10 extract_top5_pandas(data)\n",
    "memory_measures[\"pandas_csv_optim_extract\"] = %memit -c -o -r 3 extract_top5_pandas(data)\n"
   ]
  },
  {
   "cell_type": "code",
   "execution_count": 52,
   "metadata": {},
   "outputs": [
    {
     "data": {
      "text/plain": [
       "{'csv_dictreader_load': <TimeitResult : 875 ms ± 2.05 ms per loop (mean ± std. dev. of 3 runs, 10 loops each)>,\n",
       " 'csv_dictreader_extract': <TimeitResult : 171 ms ± 1.46 ms per loop (mean ± std. dev. of 3 runs, 10 loops each)>,\n",
       " 'csv_reader_load': <TimeitResult : 502 ms ± 6.23 ms per loop (mean ± std. dev. of 3 runs, 10 loops each)>,\n",
       " 'csv_reader_extract': <TimeitResult : 171 ms ± 1.19 ms per loop (mean ± std. dev. of 3 runs, 10 loops each)>,\n",
       " 'pandas_csv_load': <TimeitResult : 734 ms ± 23.8 ms per loop (mean ± std. dev. of 3 runs, 10 loops each)>,\n",
       " 'pandas_csv_extract': <TimeitResult : 84.4 ms ± 325 µs per loop (mean ± std. dev. of 3 runs, 10 loops each)>,\n",
       " 'pandas_csv_optim_load': <TimeitResult : 423 ms ± 4.11 ms per loop (mean ± std. dev. of 3 runs, 10 loops each)>,\n",
       " 'pandas_csv_optim_extract': <TimeitResult : 57.4 ms ± 216 µs per loop (mean ± std. dev. of 3 runs, 10 loops each)>}"
      ]
     },
     "execution_count": 52,
     "metadata": {},
     "output_type": "execute_result"
    }
   ],
   "source": [
    "time_measures"
   ]
  },
  {
   "cell_type": "code",
   "execution_count": 53,
   "metadata": {},
   "outputs": [
    {
     "data": {
      "text/plain": [
       "{'csv_dictreader_load': <MemitResult : peak memory: 1420.34 MiB, increment: 62.53 MiB>,\n",
       " 'csv_dictreader_extract': <MemitResult : peak memory: 1434.59 MiB, increment: 62.25 MiB>,\n",
       " 'csv_reader_load': <MemitResult : peak memory: 1907.86 MiB, increment: 71.05 MiB>,\n",
       " 'csv_reader_extract': <MemitResult : peak memory: 1843.50 MiB, increment: 62.66 MiB>,\n",
       " 'pandas_csv_load': <MemitResult : peak memory: 1860.72 MiB, increment: 63.75 MiB>,\n",
       " 'pandas_csv_extract': <MemitResult : peak memory: 1630.20 MiB, increment: 62.11 MiB>,\n",
       " 'pandas_csv_optim_load': <MemitResult : peak memory: 1635.39 MiB, increment: 62.28 MiB>,\n",
       " 'pandas_csv_optim_extract': <MemitResult : peak memory: 1470.36 MiB, increment: 62.22 MiB>}"
      ]
     },
     "execution_count": 53,
     "metadata": {},
     "output_type": "execute_result"
    }
   ],
   "source": [
    "memory_measures"
   ]
  }
 ],
 "metadata": {
  "kernelspec": {
   "display_name": "base",
   "language": "python",
   "name": "python3"
  },
  "language_info": {
   "codemirror_mode": {
    "name": "ipython",
    "version": 3
   },
   "file_extension": ".py",
   "mimetype": "text/x-python",
   "name": "python",
   "nbconvert_exporter": "python",
   "pygments_lexer": "ipython3",
   "version": "3.11.5"
  }
 },
 "nbformat": 4,
 "nbformat_minor": 2
}
